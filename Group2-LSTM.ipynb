{
 "cells": [
  {
   "cell_type": "code",
   "execution_count": 318,
   "metadata": {},
   "outputs": [],
   "source": [
    "# https://www.kaggle.com/code/charel/learn-by-example-rnn-lstm-gru-time-series"
   ]
  },
  {
   "cell_type": "code",
   "execution_count": 319,
   "metadata": {},
   "outputs": [],
   "source": [
    "import numpy as np\n",
    "import pandas as pd\n",
    "import matplotlib.pyplot as plt\n",
    "import seaborn as sns\n",
    "import tensorflow as tf\n",
    "\n",
    "import tensorflow as tf\n",
    "from tensorflow import keras\n",
    "from keras import metrics\n",
    "from tensorflow.keras.layers import Dropout,LSTM, BatchNormalization, Dense\n",
    "from tensorflow.keras.optimizers import SGD\n",
    "from tensorflow.keras.optimizers import Adam\n",
    "import matplotlib.image as mpimg\n",
    "\n",
    "from tensorflow.keras import callbacks\n",
    "from keras.callbacks import ReduceLROnPlateau\n",
    "\n",
    "from matplotlib import style\n",
    "style.use('ggplot')\n",
    "\n",
    "import warnings\n",
    "warnings.filterwarnings('ignore')\n",
    "\n",
    "%matplotlib inline"
   ]
  },
  {
   "cell_type": "code",
   "execution_count": 320,
   "metadata": {},
   "outputs": [],
   "source": [
    "# read csv file\n",
    "train_df = pd.read_csv('train.csv', parse_dates=['Date'], index_col=['Date'])\n",
    "#train_df = pd.read_csv('train.csv')\n",
    "store_df = pd.read_csv('store.csv')"
   ]
  },
  {
   "cell_type": "code",
   "execution_count": 321,
   "metadata": {},
   "outputs": [],
   "source": [
    "df = train_df.join(store_df.set_index('Store'), on='Store')"
   ]
  },
  {
   "cell_type": "code",
   "execution_count": 322,
   "metadata": {},
   "outputs": [],
   "source": [
    "df = df.fillna(0)\n",
    "df['StateHoliday'] = df.StateHoliday.replace(0, '0')\n",
    "df['Promo2SinceYear'] = df['Promo2SinceYear'].astype('int8')\n",
    "df['Promo2SinceYear'] = df['Promo2SinceYear'].astype('int8')"
   ]
  },
  {
   "cell_type": "code",
   "execution_count": 323,
   "metadata": {},
   "outputs": [
    {
     "name": "stdout",
     "output_type": "stream",
     "text": [
      "<class 'pandas.core.frame.DataFrame'>\n",
      "DatetimeIndex: 1017209 entries, 2015-07-31 to 2013-01-01\n",
      "Data columns (total 17 columns):\n",
      " #   Column                     Non-Null Count    Dtype  \n",
      "---  ------                     --------------    -----  \n",
      " 0   Store                      1017209 non-null  int64  \n",
      " 1   DayOfWeek                  1017209 non-null  int64  \n",
      " 2   Sales                      1017209 non-null  int64  \n",
      " 3   Customers                  1017209 non-null  int64  \n",
      " 4   Open                       1017209 non-null  int64  \n",
      " 5   Promo                      1017209 non-null  int64  \n",
      " 6   StateHoliday               1017209 non-null  object \n",
      " 7   SchoolHoliday              1017209 non-null  int64  \n",
      " 8   StoreType                  1017209 non-null  object \n",
      " 9   Assortment                 1017209 non-null  object \n",
      " 10  CompetitionDistance        1017209 non-null  float64\n",
      " 11  CompetitionOpenSinceMonth  1017209 non-null  float64\n",
      " 12  CompetitionOpenSinceYear   1017209 non-null  float64\n",
      " 13  Promo2                     1017209 non-null  int64  \n",
      " 14  Promo2SinceWeek            1017209 non-null  float64\n",
      " 15  Promo2SinceYear            1017209 non-null  int8   \n",
      " 16  PromoInterval              1017209 non-null  object \n",
      "dtypes: float64(4), int64(8), int8(1), object(4)\n",
      "memory usage: 132.9+ MB\n"
     ]
    }
   ],
   "source": [
    "df.info()"
   ]
  },
  {
   "cell_type": "code",
   "execution_count": 324,
   "metadata": {},
   "outputs": [
    {
     "data": {
      "text/html": [
       "<div>\n",
       "<style scoped>\n",
       "    .dataframe tbody tr th:only-of-type {\n",
       "        vertical-align: middle;\n",
       "    }\n",
       "\n",
       "    .dataframe tbody tr th {\n",
       "        vertical-align: top;\n",
       "    }\n",
       "\n",
       "    .dataframe thead th {\n",
       "        text-align: right;\n",
       "    }\n",
       "</style>\n",
       "<table border=\"1\" class=\"dataframe\">\n",
       "  <thead>\n",
       "    <tr style=\"text-align: right;\">\n",
       "      <th></th>\n",
       "      <th>Store</th>\n",
       "      <th>DayOfWeek</th>\n",
       "      <th>Sales</th>\n",
       "      <th>Customers</th>\n",
       "      <th>Open</th>\n",
       "      <th>Promo</th>\n",
       "      <th>StateHoliday</th>\n",
       "      <th>SchoolHoliday</th>\n",
       "      <th>StoreType</th>\n",
       "      <th>Assortment</th>\n",
       "      <th>CompetitionDistance</th>\n",
       "      <th>CompetitionOpenSinceMonth</th>\n",
       "      <th>CompetitionOpenSinceYear</th>\n",
       "      <th>Promo2</th>\n",
       "      <th>Promo2SinceWeek</th>\n",
       "      <th>Promo2SinceYear</th>\n",
       "      <th>PromoInterval</th>\n",
       "    </tr>\n",
       "    <tr>\n",
       "      <th>Date</th>\n",
       "      <th></th>\n",
       "      <th></th>\n",
       "      <th></th>\n",
       "      <th></th>\n",
       "      <th></th>\n",
       "      <th></th>\n",
       "      <th></th>\n",
       "      <th></th>\n",
       "      <th></th>\n",
       "      <th></th>\n",
       "      <th></th>\n",
       "      <th></th>\n",
       "      <th></th>\n",
       "      <th></th>\n",
       "      <th></th>\n",
       "      <th></th>\n",
       "      <th></th>\n",
       "    </tr>\n",
       "  </thead>\n",
       "  <tbody>\n",
       "    <tr>\n",
       "      <th>2013-01-01</th>\n",
       "      <td>1</td>\n",
       "      <td>2</td>\n",
       "      <td>0</td>\n",
       "      <td>0</td>\n",
       "      <td>0</td>\n",
       "      <td>0</td>\n",
       "      <td>a</td>\n",
       "      <td>1</td>\n",
       "      <td>c</td>\n",
       "      <td>a</td>\n",
       "      <td>1270.0</td>\n",
       "      <td>9.0</td>\n",
       "      <td>2008.0</td>\n",
       "      <td>0</td>\n",
       "      <td>0.0</td>\n",
       "      <td>0</td>\n",
       "      <td>0</td>\n",
       "    </tr>\n",
       "    <tr>\n",
       "      <th>2013-01-02</th>\n",
       "      <td>1</td>\n",
       "      <td>3</td>\n",
       "      <td>5530</td>\n",
       "      <td>668</td>\n",
       "      <td>1</td>\n",
       "      <td>0</td>\n",
       "      <td>0</td>\n",
       "      <td>1</td>\n",
       "      <td>c</td>\n",
       "      <td>a</td>\n",
       "      <td>1270.0</td>\n",
       "      <td>9.0</td>\n",
       "      <td>2008.0</td>\n",
       "      <td>0</td>\n",
       "      <td>0.0</td>\n",
       "      <td>0</td>\n",
       "      <td>0</td>\n",
       "    </tr>\n",
       "    <tr>\n",
       "      <th>2013-01-03</th>\n",
       "      <td>1</td>\n",
       "      <td>4</td>\n",
       "      <td>4327</td>\n",
       "      <td>578</td>\n",
       "      <td>1</td>\n",
       "      <td>0</td>\n",
       "      <td>0</td>\n",
       "      <td>1</td>\n",
       "      <td>c</td>\n",
       "      <td>a</td>\n",
       "      <td>1270.0</td>\n",
       "      <td>9.0</td>\n",
       "      <td>2008.0</td>\n",
       "      <td>0</td>\n",
       "      <td>0.0</td>\n",
       "      <td>0</td>\n",
       "      <td>0</td>\n",
       "    </tr>\n",
       "    <tr>\n",
       "      <th>2013-01-04</th>\n",
       "      <td>1</td>\n",
       "      <td>5</td>\n",
       "      <td>4486</td>\n",
       "      <td>619</td>\n",
       "      <td>1</td>\n",
       "      <td>0</td>\n",
       "      <td>0</td>\n",
       "      <td>1</td>\n",
       "      <td>c</td>\n",
       "      <td>a</td>\n",
       "      <td>1270.0</td>\n",
       "      <td>9.0</td>\n",
       "      <td>2008.0</td>\n",
       "      <td>0</td>\n",
       "      <td>0.0</td>\n",
       "      <td>0</td>\n",
       "      <td>0</td>\n",
       "    </tr>\n",
       "    <tr>\n",
       "      <th>2013-01-05</th>\n",
       "      <td>1</td>\n",
       "      <td>6</td>\n",
       "      <td>4997</td>\n",
       "      <td>635</td>\n",
       "      <td>1</td>\n",
       "      <td>0</td>\n",
       "      <td>0</td>\n",
       "      <td>1</td>\n",
       "      <td>c</td>\n",
       "      <td>a</td>\n",
       "      <td>1270.0</td>\n",
       "      <td>9.0</td>\n",
       "      <td>2008.0</td>\n",
       "      <td>0</td>\n",
       "      <td>0.0</td>\n",
       "      <td>0</td>\n",
       "      <td>0</td>\n",
       "    </tr>\n",
       "    <tr>\n",
       "      <th>...</th>\n",
       "      <td>...</td>\n",
       "      <td>...</td>\n",
       "      <td>...</td>\n",
       "      <td>...</td>\n",
       "      <td>...</td>\n",
       "      <td>...</td>\n",
       "      <td>...</td>\n",
       "      <td>...</td>\n",
       "      <td>...</td>\n",
       "      <td>...</td>\n",
       "      <td>...</td>\n",
       "      <td>...</td>\n",
       "      <td>...</td>\n",
       "      <td>...</td>\n",
       "      <td>...</td>\n",
       "      <td>...</td>\n",
       "      <td>...</td>\n",
       "    </tr>\n",
       "    <tr>\n",
       "      <th>2015-07-27</th>\n",
       "      <td>1115</td>\n",
       "      <td>1</td>\n",
       "      <td>10712</td>\n",
       "      <td>608</td>\n",
       "      <td>1</td>\n",
       "      <td>1</td>\n",
       "      <td>0</td>\n",
       "      <td>1</td>\n",
       "      <td>d</td>\n",
       "      <td>c</td>\n",
       "      <td>5350.0</td>\n",
       "      <td>0.0</td>\n",
       "      <td>0.0</td>\n",
       "      <td>1</td>\n",
       "      <td>22.0</td>\n",
       "      <td>-36</td>\n",
       "      <td>Mar,Jun,Sept,Dec</td>\n",
       "    </tr>\n",
       "    <tr>\n",
       "      <th>2015-07-28</th>\n",
       "      <td>1115</td>\n",
       "      <td>2</td>\n",
       "      <td>8093</td>\n",
       "      <td>500</td>\n",
       "      <td>1</td>\n",
       "      <td>1</td>\n",
       "      <td>0</td>\n",
       "      <td>1</td>\n",
       "      <td>d</td>\n",
       "      <td>c</td>\n",
       "      <td>5350.0</td>\n",
       "      <td>0.0</td>\n",
       "      <td>0.0</td>\n",
       "      <td>1</td>\n",
       "      <td>22.0</td>\n",
       "      <td>-36</td>\n",
       "      <td>Mar,Jun,Sept,Dec</td>\n",
       "    </tr>\n",
       "    <tr>\n",
       "      <th>2015-07-29</th>\n",
       "      <td>1115</td>\n",
       "      <td>3</td>\n",
       "      <td>7661</td>\n",
       "      <td>473</td>\n",
       "      <td>1</td>\n",
       "      <td>1</td>\n",
       "      <td>0</td>\n",
       "      <td>1</td>\n",
       "      <td>d</td>\n",
       "      <td>c</td>\n",
       "      <td>5350.0</td>\n",
       "      <td>0.0</td>\n",
       "      <td>0.0</td>\n",
       "      <td>1</td>\n",
       "      <td>22.0</td>\n",
       "      <td>-36</td>\n",
       "      <td>Mar,Jun,Sept,Dec</td>\n",
       "    </tr>\n",
       "    <tr>\n",
       "      <th>2015-07-30</th>\n",
       "      <td>1115</td>\n",
       "      <td>4</td>\n",
       "      <td>8405</td>\n",
       "      <td>502</td>\n",
       "      <td>1</td>\n",
       "      <td>1</td>\n",
       "      <td>0</td>\n",
       "      <td>1</td>\n",
       "      <td>d</td>\n",
       "      <td>c</td>\n",
       "      <td>5350.0</td>\n",
       "      <td>0.0</td>\n",
       "      <td>0.0</td>\n",
       "      <td>1</td>\n",
       "      <td>22.0</td>\n",
       "      <td>-36</td>\n",
       "      <td>Mar,Jun,Sept,Dec</td>\n",
       "    </tr>\n",
       "    <tr>\n",
       "      <th>2015-07-31</th>\n",
       "      <td>1115</td>\n",
       "      <td>5</td>\n",
       "      <td>8680</td>\n",
       "      <td>538</td>\n",
       "      <td>1</td>\n",
       "      <td>1</td>\n",
       "      <td>0</td>\n",
       "      <td>1</td>\n",
       "      <td>d</td>\n",
       "      <td>c</td>\n",
       "      <td>5350.0</td>\n",
       "      <td>0.0</td>\n",
       "      <td>0.0</td>\n",
       "      <td>1</td>\n",
       "      <td>22.0</td>\n",
       "      <td>-36</td>\n",
       "      <td>Mar,Jun,Sept,Dec</td>\n",
       "    </tr>\n",
       "  </tbody>\n",
       "</table>\n",
       "<p>1017209 rows × 17 columns</p>\n",
       "</div>"
      ],
      "text/plain": [
       "            Store  DayOfWeek  Sales  Customers  Open  Promo StateHoliday  \\\n",
       "Date                                                                       \n",
       "2013-01-01      1          2      0          0     0      0            a   \n",
       "2013-01-02      1          3   5530        668     1      0            0   \n",
       "2013-01-03      1          4   4327        578     1      0            0   \n",
       "2013-01-04      1          5   4486        619     1      0            0   \n",
       "2013-01-05      1          6   4997        635     1      0            0   \n",
       "...           ...        ...    ...        ...   ...    ...          ...   \n",
       "2015-07-27   1115          1  10712        608     1      1            0   \n",
       "2015-07-28   1115          2   8093        500     1      1            0   \n",
       "2015-07-29   1115          3   7661        473     1      1            0   \n",
       "2015-07-30   1115          4   8405        502     1      1            0   \n",
       "2015-07-31   1115          5   8680        538     1      1            0   \n",
       "\n",
       "            SchoolHoliday StoreType Assortment  CompetitionDistance  \\\n",
       "Date                                                                  \n",
       "2013-01-01              1         c          a               1270.0   \n",
       "2013-01-02              1         c          a               1270.0   \n",
       "2013-01-03              1         c          a               1270.0   \n",
       "2013-01-04              1         c          a               1270.0   \n",
       "2013-01-05              1         c          a               1270.0   \n",
       "...                   ...       ...        ...                  ...   \n",
       "2015-07-27              1         d          c               5350.0   \n",
       "2015-07-28              1         d          c               5350.0   \n",
       "2015-07-29              1         d          c               5350.0   \n",
       "2015-07-30              1         d          c               5350.0   \n",
       "2015-07-31              1         d          c               5350.0   \n",
       "\n",
       "            CompetitionOpenSinceMonth  CompetitionOpenSinceYear  Promo2  \\\n",
       "Date                                                                      \n",
       "2013-01-01                        9.0                    2008.0       0   \n",
       "2013-01-02                        9.0                    2008.0       0   \n",
       "2013-01-03                        9.0                    2008.0       0   \n",
       "2013-01-04                        9.0                    2008.0       0   \n",
       "2013-01-05                        9.0                    2008.0       0   \n",
       "...                               ...                       ...     ...   \n",
       "2015-07-27                        0.0                       0.0       1   \n",
       "2015-07-28                        0.0                       0.0       1   \n",
       "2015-07-29                        0.0                       0.0       1   \n",
       "2015-07-30                        0.0                       0.0       1   \n",
       "2015-07-31                        0.0                       0.0       1   \n",
       "\n",
       "            Promo2SinceWeek  Promo2SinceYear     PromoInterval  \n",
       "Date                                                            \n",
       "2013-01-01              0.0                0                 0  \n",
       "2013-01-02              0.0                0                 0  \n",
       "2013-01-03              0.0                0                 0  \n",
       "2013-01-04              0.0                0                 0  \n",
       "2013-01-05              0.0                0                 0  \n",
       "...                     ...              ...               ...  \n",
       "2015-07-27             22.0              -36  Mar,Jun,Sept,Dec  \n",
       "2015-07-28             22.0              -36  Mar,Jun,Sept,Dec  \n",
       "2015-07-29             22.0              -36  Mar,Jun,Sept,Dec  \n",
       "2015-07-30             22.0              -36  Mar,Jun,Sept,Dec  \n",
       "2015-07-31             22.0              -36  Mar,Jun,Sept,Dec  \n",
       "\n",
       "[1017209 rows x 17 columns]"
      ]
     },
     "execution_count": 324,
     "metadata": {},
     "output_type": "execute_result"
    }
   ],
   "source": [
    "df.sort_values(by=['Store', 'Date'], inplace = True)\n",
    "df"
   ]
  },
  {
   "cell_type": "code",
   "execution_count": 325,
   "metadata": {},
   "outputs": [
    {
     "data": {
      "image/png": "[encoded data removed]",
      "text/plain": [
       "<Figure size 800x500 with 1 Axes>"
      ]
     },
     "metadata": {},
     "output_type": "display_data"
    }
   ],
   "source": [
    "sales = df['Sales']\n",
    "# plt.figure(figsize = (10,5), dpi = 100)\n",
    "# plt.plot(sales)\n",
    "# plt.show()\n",
    "# histogram\n",
    "plt.figure(figsize = (8,5), dpi = 100)\n",
    "plt.hist(sales)\n",
    "plt.title(\"Sales\")\n",
    "plt.show()\n",
    "\n",
    "# sales1 = df[df['Sales'] != 0]\n",
    "# sales1 = sales1['Sales']\n",
    "# sales1 = sales1[0:500]\n",
    "# plt.figure(figsize = (12,8), dpi = 100)\n",
    "# sales1.plot()\n",
    "# plt.show()"
   ]
  },
  {
   "cell_type": "code",
   "execution_count": 326,
   "metadata": {},
   "outputs": [],
   "source": [
    "#df['Sales'] = np.log1p(df['Sales'])\n",
    "#df['Sales'] = np.sqrt(df['Sales'])\n",
    "df['Sales'] = np.cbrt(df['Sales'])"
   ]
  },
  {
   "cell_type": "code",
   "execution_count": 327,
   "metadata": {},
   "outputs": [
    {
     "data": {
      "image/png": "[encoded data removed]",
      "text/plain": [
       "<Figure size 800x500 with 1 Axes>"
      ]
     },
     "metadata": {},
     "output_type": "display_data"
    }
   ],
   "source": [
    "sales = df['Sales']\n",
    "# plt.figure(figsize = (10,5), dpi = 100)\n",
    "# plt.plot(sales)\n",
    "# plt.show()\n",
    "# histogram\n",
    "plt.figure(figsize = (8,5), dpi = 100)\n",
    "plt.hist(sales)\n",
    "plt.title(\"Sales\")\n",
    "plt.show()\n",
    "\n",
    "# sales1 = df[df['Sales'] != 0]\n",
    "# sales1 = sales1['Sales']\n",
    "# sales1 = sales1[0:500]\n",
    "# plt.figure(figsize = (12,8), dpi = 100)\n",
    "# sales1.plot()\n",
    "# plt.show()"
   ]
  },
  {
   "cell_type": "code",
   "execution_count": 265,
   "metadata": {},
   "outputs": [],
   "source": [
    "from sklearn.preprocessing import OrdinalEncoder\n",
    "nominal_cols = df.columns[df.dtypes==object].tolist()\n",
    "select_col = df[nominal_cols]\n",
    "select_col = select_col.astype(str)\n",
    "ord_enc = OrdinalEncoder()\n",
    "encoded_data = ord_enc.fit_transform(select_col)\n",
    "df[nominal_cols] = encoded_data"
   ]
  },
  {
   "cell_type": "code",
   "execution_count": 266,
   "metadata": {
    "scrolled": false
   },
   "outputs": [
    {
     "name": "stdout",
     "output_type": "stream",
     "text": [
      "<class 'pandas.core.frame.DataFrame'>\n",
      "DatetimeIndex: 1017209 entries, 2013-01-01 to 2015-07-31\n",
      "Data columns (total 17 columns):\n",
      " #   Column                     Non-Null Count    Dtype  \n",
      "---  ------                     --------------    -----  \n",
      " 0   Store                      1017209 non-null  int64  \n",
      " 1   DayOfWeek                  1017209 non-null  int64  \n",
      " 2   Sales                      1017209 non-null  float64\n",
      " 3   Customers                  1017209 non-null  int64  \n",
      " 4   Open                       1017209 non-null  int64  \n",
      " 5   Promo                      1017209 non-null  int64  \n",
      " 6   StateHoliday               1017209 non-null  float64\n",
      " 7   SchoolHoliday              1017209 non-null  int64  \n",
      " 8   StoreType                  1017209 non-null  float64\n",
      " 9   Assortment                 1017209 non-null  float64\n",
      " 10  CompetitionDistance        1017209 non-null  float64\n",
      " 11  CompetitionOpenSinceMonth  1017209 non-null  float64\n",
      " 12  CompetitionOpenSinceYear   1017209 non-null  float64\n",
      " 13  Promo2                     1017209 non-null  int64  \n",
      " 14  Promo2SinceWeek            1017209 non-null  float64\n",
      " 15  Promo2SinceYear            1017209 non-null  int8   \n",
      " 16  PromoInterval              1017209 non-null  float64\n",
      "dtypes: float64(9), int64(7), int8(1)\n",
      "memory usage: 132.9 MB\n"
     ]
    }
   ],
   "source": [
    "df.info()"
   ]
  },
  {
   "cell_type": "code",
   "execution_count": 267,
   "metadata": {},
   "outputs": [],
   "source": [
    "# X = df.iloc[:,[0,1,4,5,6,7,8,9,10,11,12,13,14,15,16]]\n",
    "# y = df.iloc[:,2]\n",
    "\n",
    "X = df.drop(['Sales', 'Customers'], axis = 1).values\n",
    "y = df[['Sales']].values"
   ]
  },
  {
   "cell_type": "code",
   "execution_count": 268,
   "metadata": {},
   "outputs": [],
   "source": [
    "from sklearn.preprocessing import MinMaxScaler\n",
    "X_scaler = MinMaxScaler()\n",
    "X = X_scaler.fit_transform(X)\n",
    "\n",
    "y_scaler = MinMaxScaler()\n",
    "y = y_scaler.fit_transform(y)"
   ]
  },
  {
   "cell_type": "code",
   "execution_count": 269,
   "metadata": {},
   "outputs": [
    {
     "data": {
      "text/plain": [
       "(1017209, 15)"
      ]
     },
     "execution_count": 269,
     "metadata": {},
     "output_type": "execute_result"
    }
   ],
   "source": [
    "X.shape"
   ]
  },
  {
   "cell_type": "code",
   "execution_count": 270,
   "metadata": {},
   "outputs": [
    {
     "data": {
      "text/plain": [
       "(1017209, 1)"
      ]
     },
     "execution_count": 270,
     "metadata": {},
     "output_type": "execute_result"
    }
   ],
   "source": [
    "y.shape"
   ]
  },
  {
   "cell_type": "code",
   "execution_count": 271,
   "metadata": {},
   "outputs": [],
   "source": [
    "X = np.array(X).reshape(1017209, 15, 1)"
   ]
  },
  {
   "cell_type": "code",
   "execution_count": 272,
   "metadata": {},
   "outputs": [],
   "source": [
    "# Splitting the data into train, validation, and test sets\n",
    "from sklearn.model_selection import train_test_split\n",
    "x_train, x_test, y_train, y_test = train_test_split(X, y, test_size=0.2)"
   ]
  },
  {
   "cell_type": "code",
   "execution_count": 194,
   "metadata": {},
   "outputs": [
    {
     "name": "stdout",
     "output_type": "stream",
     "text": [
      "Model: \"sequential_8\"\n",
      "_________________________________________________________________\n",
      " Layer (type)                Output Shape              Param #   \n",
      "=================================================================\n",
      " lstm_7 (LSTM)               (None, 60)                14880     \n",
      "                                                                 \n",
      " dropout_5 (Dropout)         (None, 60)                0         \n",
      "                                                                 \n",
      " dense_7 (Dense)             (None, 1)                 61        \n",
      "                                                                 \n",
      "=================================================================\n",
      "Total params: 14,941\n",
      "Trainable params: 14,941\n",
      "Non-trainable params: 0\n",
      "_________________________________________________________________\n"
     ]
    }
   ],
   "source": [
    "model = tf.keras.models.Sequential()\n",
    "model.add(LSTM(60, input_shape=(15, 1), activation = \"tanh\", recurrent_activation = \"sigmoid\"))\n",
    "model.add(Dropout(0.1))\n",
    "model.add(Dense(1))\n",
    "model.summary()\n",
    "\n",
    "callback = tf.keras.callbacks.EarlyStopping(monitor='val_loss', patience=5)\n",
    "\n",
    "model.compile(optimizer=Adam(), loss='mean_squared_error')"
   ]
  },
  {
   "cell_type": "code",
   "execution_count": 195,
   "metadata": {
    "scrolled": true
   },
   "outputs": [
    {
     "name": "stdout",
     "output_type": "stream",
     "text": [
      "Epoch 1/200\n",
      "4069/4069 [==============================] - 24s 5ms/step - loss: 0.0107 - val_loss: 0.0041\n",
      "Epoch 2/200\n",
      "4069/4069 [==============================] - 21s 5ms/step - loss: 0.0043 - val_loss: 0.0039\n",
      "Epoch 3/200\n",
      "4069/4069 [==============================] - 21s 5ms/step - loss: 0.0040 - val_loss: 0.0038\n",
      "Epoch 4/200\n",
      "4069/4069 [==============================] - 21s 5ms/step - loss: 0.0039 - val_loss: 0.0039\n",
      "Epoch 5/200\n",
      "4069/4069 [==============================] - 22s 5ms/step - loss: 0.0039 - val_loss: 0.0037\n",
      "Epoch 6/200\n",
      "4069/4069 [==============================] - 21s 5ms/step - loss: 0.0038 - val_loss: 0.0036\n",
      "Epoch 7/200\n",
      "4069/4069 [==============================] - 21s 5ms/step - loss: 0.0037 - val_loss: 0.0036\n",
      "Epoch 8/200\n",
      "4069/4069 [==============================] - 21s 5ms/step - loss: 0.0037 - val_loss: 0.0035\n",
      "Epoch 9/200\n",
      "4069/4069 [==============================] - 22s 5ms/step - loss: 0.0036 - val_loss: 0.0034\n",
      "Epoch 10/200\n",
      "4069/4069 [==============================] - 22s 5ms/step - loss: 0.0034 - val_loss: 0.0031\n",
      "Epoch 11/200\n",
      "4069/4069 [==============================] - 21s 5ms/step - loss: 0.0031 - val_loss: 0.0028\n",
      "Epoch 12/200\n",
      "4069/4069 [==============================] - 40s 10ms/step - loss: 0.0028 - val_loss: 0.0026\n",
      "Epoch 13/200\n",
      "4069/4069 [==============================] - 59s 15ms/step - loss: 0.0025 - val_loss: 0.0025\n",
      "Epoch 14/200\n",
      "4069/4069 [==============================] - 59s 14ms/step - loss: 0.0023 - val_loss: 0.0020\n",
      "Epoch 15/200\n",
      "4069/4069 [==============================] - 59s 14ms/step - loss: 0.0021 - val_loss: 0.0018\n",
      "Epoch 16/200\n",
      "4069/4069 [==============================] - 58s 14ms/step - loss: 0.0019 - val_loss: 0.0016\n",
      "Epoch 17/200\n",
      "4069/4069 [==============================] - 60s 15ms/step - loss: 0.0017 - val_loss: 0.0014\n",
      "Epoch 18/200\n",
      "4069/4069 [==============================] - 59s 14ms/step - loss: 0.0016 - val_loss: 0.0013\n",
      "Epoch 19/200\n",
      "4069/4069 [==============================] - 60s 15ms/step - loss: 0.0015 - val_loss: 0.0013\n",
      "Epoch 20/200\n",
      "4069/4069 [==============================] - 59s 15ms/step - loss: 0.0014 - val_loss: 0.0012\n",
      "Epoch 21/200\n",
      "4069/4069 [==============================] - 61s 15ms/step - loss: 0.0013 - val_loss: 0.0011\n",
      "Epoch 22/200\n",
      "4069/4069 [==============================] - 59s 15ms/step - loss: 0.0013 - val_loss: 0.0011\n",
      "Epoch 23/200\n",
      "4069/4069 [==============================] - 60s 15ms/step - loss: 0.0013 - val_loss: 0.0011\n",
      "Epoch 24/200\n",
      "4069/4069 [==============================] - 59s 15ms/step - loss: 0.0012 - val_loss: 0.0011\n",
      "Epoch 25/200\n",
      "4069/4069 [==============================] - 59s 15ms/step - loss: 0.0012 - val_loss: 0.0010\n",
      "Epoch 26/200\n",
      "4069/4069 [==============================] - 59s 15ms/step - loss: 0.0012 - val_loss: 0.0010\n",
      "Epoch 27/200\n",
      "4069/4069 [==============================] - 59s 14ms/step - loss: 0.0011 - val_loss: 0.0010\n",
      "Epoch 28/200\n",
      "4069/4069 [==============================] - 56s 14ms/step - loss: 0.0011 - val_loss: 0.0010\n",
      "Epoch 29/200\n",
      "4069/4069 [==============================] - 61s 15ms/step - loss: 0.0011 - val_loss: 9.9359e-04\n",
      "Epoch 30/200\n",
      "4069/4069 [==============================] - 61s 15ms/step - loss: 0.0011 - val_loss: 9.5552e-04\n",
      "Epoch 31/200\n",
      "4069/4069 [==============================] - 62s 15ms/step - loss: 0.0011 - val_loss: 9.4878e-04\n",
      "Epoch 32/200\n",
      "4069/4069 [==============================] - 62s 15ms/step - loss: 0.0011 - val_loss: 9.5804e-04\n",
      "Epoch 33/200\n",
      "4069/4069 [==============================] - 62s 15ms/step - loss: 0.0011 - val_loss: 9.1485e-04\n",
      "Epoch 34/200\n",
      "4069/4069 [==============================] - 62s 15ms/step - loss: 0.0011 - val_loss: 8.8913e-04\n",
      "Epoch 35/200\n",
      "4069/4069 [==============================] - 61s 15ms/step - loss: 0.0010 - val_loss: 9.1200e-04\n",
      "Epoch 36/200\n",
      "4069/4069 [==============================] - 61s 15ms/step - loss: 0.0010 - val_loss: 9.0397e-04\n",
      "Epoch 37/200\n",
      "4069/4069 [==============================] - 61s 15ms/step - loss: 0.0010 - val_loss: 8.7687e-04\n",
      "Epoch 38/200\n",
      "4069/4069 [==============================] - 61s 15ms/step - loss: 0.0010 - val_loss: 9.2655e-04\n",
      "Epoch 39/200\n",
      "4069/4069 [==============================] - 61s 15ms/step - loss: 0.0010 - val_loss: 8.6796e-04\n",
      "Epoch 40/200\n",
      "4069/4069 [==============================] - 61s 15ms/step - loss: 0.0010 - val_loss: 8.7038e-04\n",
      "Epoch 41/200\n",
      "4069/4069 [==============================] - 62s 15ms/step - loss: 9.9912e-04 - val_loss: 8.6267e-04\n",
      "Epoch 42/200\n",
      "4069/4069 [==============================] - 61s 15ms/step - loss: 9.9318e-04 - val_loss: 8.5611e-04\n",
      "Epoch 43/200\n",
      "4069/4069 [==============================] - 62s 15ms/step - loss: 9.9119e-04 - val_loss: 9.1777e-04\n",
      "Epoch 44/200\n",
      "4069/4069 [==============================] - 62s 15ms/step - loss: 9.8363e-04 - val_loss: 8.3561e-04\n",
      "Epoch 45/200\n",
      "4069/4069 [==============================] - 62s 15ms/step - loss: 9.8951e-04 - val_loss: 8.8505e-04\n",
      "Epoch 46/200\n",
      "4069/4069 [==============================] - 62s 15ms/step - loss: 9.7328e-04 - val_loss: 9.3259e-04\n",
      "Epoch 47/200\n",
      "4069/4069 [==============================] - 62s 15ms/step - loss: 9.7486e-04 - val_loss: 8.2704e-04\n",
      "Epoch 48/200\n",
      "4069/4069 [==============================] - 62s 15ms/step - loss: 9.7171e-04 - val_loss: 8.6108e-04\n",
      "Epoch 49/200\n",
      "4069/4069 [==============================] - 63s 15ms/step - loss: 9.6953e-04 - val_loss: 8.5157e-04\n",
      "Epoch 50/200\n",
      "4069/4069 [==============================] - 62s 15ms/step - loss: 9.6398e-04 - val_loss: 8.7548e-04\n",
      "Epoch 51/200\n",
      "4069/4069 [==============================] - 60s 15ms/step - loss: 9.5930e-04 - val_loss: 8.6587e-04\n",
      "Epoch 52/200\n",
      "4069/4069 [==============================] - 61s 15ms/step - loss: 9.6188e-04 - val_loss: 8.2227e-04\n",
      "Epoch 53/200\n",
      "4069/4069 [==============================] - 61s 15ms/step - loss: 9.5704e-04 - val_loss: 8.4648e-04\n",
      "Epoch 54/200\n",
      "4069/4069 [==============================] - 62s 15ms/step - loss: 9.5538e-04 - val_loss: 8.3643e-04\n",
      "Epoch 55/200\n",
      "4069/4069 [==============================] - 63s 15ms/step - loss: 9.5095e-04 - val_loss: 8.7852e-04\n",
      "Epoch 56/200\n",
      "4069/4069 [==============================] - 61s 15ms/step - loss: 9.4591e-04 - val_loss: 8.2771e-04\n",
      "Epoch 57/200\n",
      "4069/4069 [==============================] - 62s 15ms/step - loss: 9.4661e-04 - val_loss: 8.3213e-04\n"
     ]
    }
   ],
   "source": [
    "# Train the model\n",
    "history = model.fit(x_train, y_train, epochs=200, batch_size=160, validation_split=0.2, callbacks = [callback])"
   ]
  },
  {
   "cell_type": "code",
   "execution_count": 196,
   "metadata": {
    "scrolled": false
   },
   "outputs": [
    {
     "data": {
      "text/plain": [
       "<matplotlib.legend.Legend at 0x18a21810250>"
      ]
     },
     "execution_count": 196,
     "metadata": {},
     "output_type": "execute_result"
    },
    {
     "data": {
      "image/png": "[encoded data removed]",
      "text/plain": [
       "<Figure size 1000x500 with 1 Axes>"
      ]
     },
     "metadata": {},
     "output_type": "display_data"
    }
   ],
   "source": [
    "train_acc = history.history['loss']\n",
    "val_acc = history.history['val_loss']\n",
    "\n",
    "plt.figure(figsize = (10,5), dpi = 100)\n",
    "plt.plot(train_acc, color = 'green', label = 'Training Loss')\n",
    "plt.plot(val_acc, color = 'red', label = 'Validation Loss')\n",
    "plt.title('Training Vs Validation Loss')\n",
    "plt.legend()"
   ]
  },
  {
   "cell_type": "code",
   "execution_count": 276,
   "metadata": {
    "scrolled": false
   },
   "outputs": [
    {
     "name": "stdout",
     "output_type": "stream",
     "text": [
      "6358/6358 [==============================] - 12s 2ms/step\n"
     ]
    }
   ],
   "source": [
    "y_pred = model.predict(x_test)"
   ]
  },
  {
   "cell_type": "code",
   "execution_count": 277,
   "metadata": {},
   "outputs": [],
   "source": [
    "import math\n",
    "def rmse(y_true, y_pred):\n",
    "    return math.sqrt(np.mean(np.square(y_pred - y_true)))"
   ]
  },
  {
   "cell_type": "code",
   "execution_count": 278,
   "metadata": {},
   "outputs": [],
   "source": [
    "def rmspe(y_true, y_pred):\n",
    "    value = (y_true - y_pred)/(y_true)\n",
    "    value = value[np.isfinite(value)]\n",
    "    value = np.mean(np.square(value))\n",
    "    return math.sqrt(value)"
   ]
  },
  {
   "cell_type": "code",
   "execution_count": 288,
   "metadata": {},
   "outputs": [],
   "source": [
    "y_test = y_scaler.inverse_transform(y_test)\n",
    "y_test = (y_test)**3\n",
    "\n",
    "y_pred = y_scaler.inverse_transform(y_pred)\n",
    "y_pred = (y_pred)**3"
   ]
  },
  {
   "cell_type": "code",
   "execution_count": 282,
   "metadata": {},
   "outputs": [
    {
     "name": "stdout",
     "output_type": "stream",
     "text": [
      "R^2: 0.9048308002191233\n",
      "RMSE: 1187.0526844962849\n",
      "RMSPE: 0.19423286037852894\n"
     ]
    }
   ],
   "source": [
    "from sklearn.metrics import r2_score\n",
    "print('R^2:', r2_score(y_test, y_pred))\n",
    "print('RMSE:', rmse(y_test, y_pred))\n",
    "print('RMSPE:', rmspe(y_test, y_pred))"
   ]
  },
  {
   "cell_type": "code",
   "execution_count": 254,
   "metadata": {},
   "outputs": [],
   "source": [
    "# Save model\n",
    "model.save_weights(r'C:\\Users\\viren\\Essex\\Assignments\\NN and DL\\Assignment2\\Model\\succes_weights1')\n",
    "model.save(r'C:\\Users\\viren\\Essex\\Assignments\\NN and DL\\Assignment2\\Model\\success_model1.keras')\n",
    "model.save(r'C:\\Users\\viren\\Essex\\Assignments\\NN and DL\\Assignment2\\Model\\success_model1.h5')"
   ]
  },
  {
   "cell_type": "code",
   "execution_count": null,
   "metadata": {},
   "outputs": [],
   "source": [
    "model1 = tf.keras.models.Sequential()\n",
    "model1.add(LSTM(60, input_shape=(15, 1), activation = \"tanh\", recurrent_activation = \"sigmoid\"))\n",
    "#model1.add(Dropout(0.1))\n",
    "model1.add(Dense(1))\n",
    "#model1.summary()"
   ]
  },
  {
   "cell_type": "code",
   "execution_count": 223,
   "metadata": {},
   "outputs": [
    {
     "name": "stdout",
     "output_type": "stream",
     "text": [
      "Model Loaded!\n"
     ]
    }
   ],
   "source": [
    "from tensorflow.keras.models import load_model\n",
    "# load model\n",
    "model1.load_weights(r'C:\\Users\\viren\\Essex\\Assignments\\NN and DL\\Assignment2\\Model\\success_model.keras')\n",
    "print('Model Loaded!')"
   ]
  },
  {
   "cell_type": "markdown",
   "metadata": {},
   "source": [
    "#### Test Prediction"
   ]
  },
  {
   "cell_type": "code",
   "execution_count": 224,
   "metadata": {},
   "outputs": [],
   "source": [
    "submission_df = pd.read_csv('test.csv', parse_dates=['Date'], index_col=['Date'])"
   ]
  },
  {
   "cell_type": "code",
   "execution_count": 225,
   "metadata": {},
   "outputs": [],
   "source": [
    "df = submission_df.join(store_df.set_index('Store'), on='Store')"
   ]
  },
  {
   "cell_type": "code",
   "execution_count": 226,
   "metadata": {},
   "outputs": [
    {
     "name": "stdout",
     "output_type": "stream",
     "text": [
      "<class 'pandas.core.frame.DataFrame'>\n",
      "DatetimeIndex: 41088 entries, 2015-09-17 to 2015-08-01\n",
      "Data columns (total 16 columns):\n",
      " #   Column                     Non-Null Count  Dtype  \n",
      "---  ------                     --------------  -----  \n",
      " 0   Id                         41088 non-null  int64  \n",
      " 1   Store                      41088 non-null  int64  \n",
      " 2   DayOfWeek                  41088 non-null  int64  \n",
      " 3   Open                       41077 non-null  float64\n",
      " 4   Promo                      41088 non-null  int64  \n",
      " 5   StateHoliday               41088 non-null  object \n",
      " 6   SchoolHoliday              41088 non-null  int64  \n",
      " 7   StoreType                  41088 non-null  object \n",
      " 8   Assortment                 41088 non-null  object \n",
      " 9   CompetitionDistance        40992 non-null  float64\n",
      " 10  CompetitionOpenSinceMonth  25872 non-null  float64\n",
      " 11  CompetitionOpenSinceYear   25872 non-null  float64\n",
      " 12  Promo2                     41088 non-null  int64  \n",
      " 13  Promo2SinceWeek            23856 non-null  float64\n",
      " 14  Promo2SinceYear            23856 non-null  float64\n",
      " 15  PromoInterval              23856 non-null  object \n",
      "dtypes: float64(6), int64(6), object(4)\n",
      "memory usage: 5.3+ MB\n"
     ]
    }
   ],
   "source": [
    "df.info()"
   ]
  },
  {
   "cell_type": "code",
   "execution_count": 227,
   "metadata": {},
   "outputs": [],
   "source": [
    "df = df.fillna(0)\n",
    "df['StateHoliday'] = df.StateHoliday.replace(0, '0')\n",
    "df['Promo2SinceYear'] = df['Promo2SinceYear'].astype('int8')\n",
    "df['Promo2SinceYear'] = df['Promo2SinceYear'].astype('int8')"
   ]
  },
  {
   "cell_type": "code",
   "execution_count": 228,
   "metadata": {},
   "outputs": [],
   "source": [
    "nominal_cols = df.columns[df.dtypes==object].tolist()\n",
    "select_col = df[nominal_cols]\n",
    "select_col = select_col.astype(str)\n",
    "ord_enc = OrdinalEncoder()\n",
    "encoded_data = ord_enc.fit_transform(select_col)\n",
    "df[nominal_cols] = encoded_data"
   ]
  },
  {
   "cell_type": "code",
   "execution_count": 229,
   "metadata": {},
   "outputs": [
    {
     "name": "stdout",
     "output_type": "stream",
     "text": [
      "<class 'pandas.core.frame.DataFrame'>\n",
      "DatetimeIndex: 41088 entries, 2015-09-17 to 2015-08-01\n",
      "Data columns (total 16 columns):\n",
      " #   Column                     Non-Null Count  Dtype  \n",
      "---  ------                     --------------  -----  \n",
      " 0   Id                         41088 non-null  int64  \n",
      " 1   Store                      41088 non-null  int64  \n",
      " 2   DayOfWeek                  41088 non-null  int64  \n",
      " 3   Open                       41088 non-null  float64\n",
      " 4   Promo                      41088 non-null  int64  \n",
      " 5   StateHoliday               41088 non-null  float64\n",
      " 6   SchoolHoliday              41088 non-null  int64  \n",
      " 7   StoreType                  41088 non-null  float64\n",
      " 8   Assortment                 41088 non-null  float64\n",
      " 9   CompetitionDistance        41088 non-null  float64\n",
      " 10  CompetitionOpenSinceMonth  41088 non-null  float64\n",
      " 11  CompetitionOpenSinceYear   41088 non-null  float64\n",
      " 12  Promo2                     41088 non-null  int64  \n",
      " 13  Promo2SinceWeek            41088 non-null  float64\n",
      " 14  Promo2SinceYear            41088 non-null  int8   \n",
      " 15  PromoInterval              41088 non-null  float64\n",
      "dtypes: float64(9), int64(6), int8(1)\n",
      "memory usage: 5.1 MB\n"
     ]
    }
   ],
   "source": [
    "df.info()"
   ]
  },
  {
   "cell_type": "code",
   "execution_count": 232,
   "metadata": {},
   "outputs": [],
   "source": [
    "X_real_test = df.drop(['Id'], axis = 1).values"
   ]
  },
  {
   "cell_type": "code",
   "execution_count": 234,
   "metadata": {},
   "outputs": [],
   "source": [
    "X_real_test = X_scaler.transform(X_real_test)"
   ]
  },
  {
   "cell_type": "code",
   "execution_count": 235,
   "metadata": {},
   "outputs": [
    {
     "data": {
      "text/plain": [
       "(41088, 15)"
      ]
     },
     "execution_count": 235,
     "metadata": {},
     "output_type": "execute_result"
    }
   ],
   "source": [
    "X_real_test.shape"
   ]
  },
  {
   "cell_type": "code",
   "execution_count": 236,
   "metadata": {},
   "outputs": [],
   "source": [
    "X_real_test = np.array(X_real_test).reshape(len(X_real_test), 15, 1)"
   ]
  },
  {
   "cell_type": "code",
   "execution_count": 245,
   "metadata": {},
   "outputs": [
    {
     "name": "stdout",
     "output_type": "stream",
     "text": [
      "1284/1284 [==============================] - 3s 2ms/step\n"
     ]
    }
   ],
   "source": [
    "y_pred_real_test = model1.predict(X_real_test)"
   ]
  },
  {
   "cell_type": "code",
   "execution_count": 246,
   "metadata": {},
   "outputs": [
    {
     "data": {
      "text/plain": [
       "array([[0.4817377 ],\n",
       "       [0.5742738 ],\n",
       "       [0.59621716],\n",
       "       ...,\n",
       "       [0.51869637],\n",
       "       [0.7994486 ],\n",
       "       [0.54278284]], dtype=float32)"
      ]
     },
     "execution_count": 246,
     "metadata": {},
     "output_type": "execute_result"
    }
   ],
   "source": [
    "y_pred_real_test"
   ]
  },
  {
   "cell_type": "code",
   "execution_count": 247,
   "metadata": {},
   "outputs": [],
   "source": [
    "y_pred_real_test_rescale = y_scaler.inverse_transform(y_pred_real_test)"
   ]
  },
  {
   "cell_type": "code",
   "execution_count": 248,
   "metadata": {},
   "outputs": [],
   "source": [
    "#y_pred_real_test_rescale = np.expm1(y_pred_real_test_rescale)\n",
    "#y_pred_real_test_rescale = (y_pred_real_test_rescale)**2\n",
    "y_pred_real_test_rescale = (y_pred_real_test_rescale)**3"
   ]
  },
  {
   "cell_type": "code",
   "execution_count": 249,
   "metadata": {},
   "outputs": [
    {
     "data": {
      "text/plain": [
       "(41088, 1)"
      ]
     },
     "execution_count": 249,
     "metadata": {},
     "output_type": "execute_result"
    }
   ],
   "source": [
    "y_pred_real_test_rescale.shape"
   ]
  },
  {
   "cell_type": "code",
   "execution_count": 250,
   "metadata": {},
   "outputs": [],
   "source": [
    "result_df = pd.DataFrame(y_pred_real_test_rescale, columns=['Sales'])\n",
    "result_df.index.names = ['Id']\n",
    "result_df.index += 1"
   ]
  },
  {
   "cell_type": "code",
   "execution_count": 251,
   "metadata": {},
   "outputs": [
    {
     "data": {
      "text/html": [
       "<div>\n",
       "<style scoped>\n",
       "    .dataframe tbody tr th:only-of-type {\n",
       "        vertical-align: middle;\n",
       "    }\n",
       "\n",
       "    .dataframe tbody tr th {\n",
       "        vertical-align: top;\n",
       "    }\n",
       "\n",
       "    .dataframe thead th {\n",
       "        text-align: right;\n",
       "    }\n",
       "</style>\n",
       "<table border=\"1\" class=\"dataframe\">\n",
       "  <thead>\n",
       "    <tr style=\"text-align: right;\">\n",
       "      <th></th>\n",
       "      <th>Sales</th>\n",
       "    </tr>\n",
       "    <tr>\n",
       "      <th>Id</th>\n",
       "      <th></th>\n",
       "    </tr>\n",
       "  </thead>\n",
       "  <tbody>\n",
       "    <tr>\n",
       "      <th>1</th>\n",
       "      <td>4645.296387</td>\n",
       "    </tr>\n",
       "    <tr>\n",
       "      <th>2</th>\n",
       "      <td>7869.344238</td>\n",
       "    </tr>\n",
       "    <tr>\n",
       "      <th>3</th>\n",
       "      <td>8806.329102</td>\n",
       "    </tr>\n",
       "    <tr>\n",
       "      <th>4</th>\n",
       "      <td>6419.655273</td>\n",
       "    </tr>\n",
       "    <tr>\n",
       "      <th>5</th>\n",
       "      <td>6637.920898</td>\n",
       "    </tr>\n",
       "  </tbody>\n",
       "</table>\n",
       "</div>"
      ],
      "text/plain": [
       "          Sales\n",
       "Id             \n",
       "1   4645.296387\n",
       "2   7869.344238\n",
       "3   8806.329102\n",
       "4   6419.655273\n",
       "5   6637.920898"
      ]
     },
     "execution_count": 251,
     "metadata": {},
     "output_type": "execute_result"
    }
   ],
   "source": [
    "result_df.head()"
   ]
  },
  {
   "cell_type": "code",
   "execution_count": 252,
   "metadata": {},
   "outputs": [],
   "source": [
    "result_df.to_csv('fin.csv')"
   ]
  },
  {
   "cell_type": "markdown",
   "metadata": {},
   "source": [
    "#### Comparison"
   ]
  },
  {
   "cell_type": "code",
   "execution_count": 303,
   "metadata": {
    "scrolled": false
   },
   "outputs": [
    {
     "data": {
      "image/png": "[encoded data removed]",
      "text/plain": [
       "<Figure size 800x500 with 1 Axes>"
      ]
     },
     "metadata": {},
     "output_type": "display_data"
    }
   ],
   "source": [
    "#x = np.arange(len(performance))\n",
    "width = 0.3\n",
    "metric_name = 'R2/RMSE/RMSPE'\n",
    "\n",
    "model_list = {'CNN - Thomas' : {'R2' : 0.805, 'RMSE' : 1, 'RMSPE' : 1},\n",
    "              'GRU - Pattrawudh' : {'R2' : 0.89339, 'RMSE' : 0.03026, 'RMSPE' : 0.22928}, \n",
    "              'LSTM - Virendrasinh' : {'R2' : 0.903, 'RMSE' : 0.02923, 'RMSPE' : 0.20995},\n",
    "              'RNN - Jose' : {'R2' : 0.60413, 'RMSE' : 0.05821, 'RMSPE' : 0.51092},\n",
    "              'Dense - Bharath' : {'R2' : 0.86, 'RMSE' : 1, 'RMSPE' : 1}, \n",
    "              'Dense - Nagadithya' : {'R2' : 0.87, 'RMSE' : 1, 'RMSPE' : 1},\n",
    "              'AutoEncoders - Drew' : {'R2' : 0.533, 'RMSE' : 1, 'RMSPE' : 1}\n",
    "             }\n",
    "per = pd.DataFrame.from_dict(model_list)\n",
    "per = per.T\n",
    "\n",
    "R2 = per['R2']\n",
    "RMSE = per['RMSE']\n",
    "RMSPE = per['RMSPE']\n",
    "\n",
    "axes1 = R2.plot.bar(rot=90, figsize=(8, 5), color={\"red\", \"green\", \"blue\", \"orange\", \"purple\", \"magenta\", \"yellow\"})\n",
    "#axes = per.plot.bar(rot=0, subplots=True, figsize=(8, 15))"
   ]
  },
  {
   "cell_type": "code",
   "execution_count": 286,
   "metadata": {},
   "outputs": [],
   "source": [
    "# axes2 = RMSPE.plot.bar(rot=0, figsize=(10, 6), color = 'blue')"
   ]
  },
  {
   "cell_type": "code",
   "execution_count": null,
   "metadata": {},
   "outputs": [],
   "source": []
  }
 ],
 "metadata": {
  "kernelspec": {
   "display_name": "tensor",
   "language": "python",
   "name": "tensor"
  },
  "language_info": {
   "codemirror_mode": {
    "name": "ipython",
    "version": 3
   },
   "file_extension": ".py",
   "mimetype": "text/x-python",
   "name": "python",
   "nbconvert_exporter": "python",
   "pygments_lexer": "ipython3",
   "version": "3.9.16"
  }
 },
 "nbformat": 4,
 "nbformat_minor": 2
}
